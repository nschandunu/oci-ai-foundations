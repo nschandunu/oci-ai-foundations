{
 "cells": [
  {
   "cell_type": "markdown",
   "id": "466e2c28-47a8-487b-8239-e35b7356a7c8",
   "metadata": {},
   "source": [
    "# Machine Learning Process\n",
    "* Loading data\n",
    "* Preprocessing\n",
    "* Training a model\n",
    "* Evaluating the model\n",
    "* Making predictions"
   ]
  },
  {
   "cell_type": "code",
   "execution_count": 5,
   "id": "38bdc45f-729f-4407-803d-22cb28d65866",
   "metadata": {},
   "outputs": [
    {
     "ename": "ImportError",
     "evalue": "cannot import name 'LogisticRegresssion' from 'sklearn.linear_model' (/opt/anaconda3/lib/python3.12/site-packages/sklearn/linear_model/__init__.py)",
     "output_type": "error",
     "traceback": [
      "\u001b[0;31m---------------------------------------------------------------------------\u001b[0m",
      "\u001b[0;31mImportError\u001b[0m                               Traceback (most recent call last)",
      "Cell \u001b[0;32mIn[5], line 3\u001b[0m\n\u001b[1;32m      1\u001b[0m \u001b[38;5;66;03m# import necessary libraries\u001b[39;00m\n\u001b[1;32m      2\u001b[0m \u001b[38;5;28;01mimport\u001b[39;00m\u001b[38;5;250m \u001b[39m\u001b[38;5;21;01mpandas\u001b[39;00m\u001b[38;5;250m \u001b[39m\u001b[38;5;28;01mas\u001b[39;00m\u001b[38;5;250m \u001b[39m\u001b[38;5;21;01mpd\u001b[39;00m\n\u001b[0;32m----> 3\u001b[0m \u001b[38;5;28;01mfrom\u001b[39;00m\u001b[38;5;250m \u001b[39m\u001b[38;5;21;01msklearn\u001b[39;00m\u001b[38;5;21;01m.\u001b[39;00m\u001b[38;5;21;01mlinear_model\u001b[39;00m\u001b[38;5;250m \u001b[39m\u001b[38;5;28;01mimport\u001b[39;00m LogisticRegresssion\n",
      "\u001b[0;31mImportError\u001b[0m: cannot import name 'LogisticRegresssion' from 'sklearn.linear_model' (/opt/anaconda3/lib/python3.12/site-packages/sklearn/linear_model/__init__.py)"
     ]
    }
   ],
   "source": [
    "# import necessary libraries\n",
    "import pandas as pd\n",
    "from sklearn.linear_model import LogisticRegresssion"
   ]
  },
  {
   "cell_type": "code",
   "execution_count": null,
   "id": "59d076da-e142-4e3f-9327-b2aec54f48b4",
   "metadata": {},
   "outputs": [],
   "source": []
  }
 ],
 "metadata": {
  "kernelspec": {
   "display_name": "Python 3 (ipykernel)",
   "language": "python",
   "name": "python3"
  },
  "language_info": {
   "codemirror_mode": {
    "name": "ipython",
    "version": 3
   },
   "file_extension": ".py",
   "mimetype": "text/x-python",
   "name": "python",
   "nbconvert_exporter": "python",
   "pygments_lexer": "ipython3",
   "version": "3.12.7"
  }
 },
 "nbformat": 4,
 "nbformat_minor": 5
}
