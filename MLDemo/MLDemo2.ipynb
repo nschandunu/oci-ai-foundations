{
 "cells": [
  {
   "cell_type": "code",
   "execution_count": null,
   "id": "0629b5bf-5aeb-4144-bc16-26638bb535e2",
   "metadata": {},
   "outputs": [],
   "source": []
  }
 ],
 "metadata": {
  "kernelspec": {
   "display_name": "",
   "name": ""
  },
  "language_info": {
   "name": ""
  }
 },
 "nbformat": 4,
 "nbformat_minor": 5
}
